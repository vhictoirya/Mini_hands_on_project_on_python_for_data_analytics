{
 "cells": [
  {
   "cell_type": "markdown",
   "id": "ff2f4fbb",
   "metadata": {},
   "source": [
    "# Crypto Token Correlation Heatmep\n",
    "\n",
    "### Fetch Tokens Data from Coingecko"
   ]
  },
  {
   "cell_type": "code",
   "execution_count": 1,
   "id": "14ece666",
   "metadata": {},
   "outputs": [],
   "source": [
    "import os\n",
    "from dotenv import load_dotenv\n",
    "import requests\n",
    "import pandas as pd\n",
    "\n",
    "load_dotenv()  # Load environment variables from .env\n",
    "\n",
    "api_key = os.getenv('GECKO_API')  # Get API key from .env\n",
    "coin_id = 'bitcoin'\n",
    "vs_currency = 'usd'\n",
    "days = '30'\n",
    "\n",
    "url = f'https://pro-api.coingecko.com/api/v3/coins/{coin_id}/market_chart'\n",
    "params = {\n",
    "    'vs_currency': vs_currency,\n",
    "    'days': days\n",
    "}\n",
    "headers = {\n",
    "    'accept': 'application/json',\n",
    "    'x-cg-pro-api-key': api_key\n",
    "}\n",
    "\n",
    "response = requests.get(url, headers=headers, params=params)"
   ]
  },
  {
   "cell_type": "markdown",
   "id": "ff13871a",
   "metadata": {},
   "source": [
    "### Convert Result into a DataFrame"
   ]
  },
  {
   "cell_type": "code",
   "execution_count": 2,
   "id": "9124d84d",
   "metadata": {},
   "outputs": [
    {
     "name": "stdout",
     "output_type": "stream",
     "text": [
      "                timestamp          price\n",
      "0 2025-07-07 10:03:38.255  108837.969514\n",
      "1 2025-07-07 11:04:34.959  108691.181357\n",
      "2 2025-07-07 12:03:23.015  108648.140157\n",
      "3 2025-07-07 13:03:46.730  108343.933685\n",
      "4 2025-07-07 14:03:46.463  108435.957397\n"
     ]
    }
   ],
   "source": [
    "data = response.json()\n",
    "\n",
    "# Convert 'prices' to DataFrame\n",
    "df = pd.DataFrame(data['prices'], columns=['timestamp', 'price'])\n",
    "df['timestamp'] = pd.to_datetime(df['timestamp'], unit='ms')\n",
    "\n",
    "print(df.head())"
   ]
  },
  {
   "cell_type": "markdown",
   "id": "8dd118fe",
   "metadata": {},
   "source": [
    "### Create a Function"
   ]
  },
  {
   "cell_type": "code",
   "execution_count": 3,
   "id": "23e8e072",
   "metadata": {},
   "outputs": [],
   "source": [
    "import os\n",
    "from dotenv import load_dotenv\n",
    "import requests\n",
    "import pandas as pd\n",
    "import joblib\n",
    "\n",
    "load_dotenv()  # Load environment variables from .env\n",
    "\n",
    "api_key = os.getenv('GECKO_API')  # Get API key from .env\n",
    "coin_id = 'bitcoin'\n",
    "vs_currency = 'usd'\n",
    "days = '30'\n",
    "\n",
    "def fetch_token_price_history(token_ids, vs_currency='usd', days='30'):\n",
    "    \"\"\"\n",
    "    Fetch historical price data for multiple tokens from CoinGecko Pro API.\n",
    "    \n",
    "    Args:\n",
    "        token_ids (list): List of token ids (e.g., ['bitcoin', 'ethereum']).\n",
    "        vs_currency (str): The target currency (default 'usd').\n",
    "        days (str): Number of days to fetch (default '30').\n",
    "    \n",
    "    Returns:\n",
    "        pd.DataFrame: DataFrame with timestamps as index and tokens as columns.\n",
    "    \"\"\"\n",
    "    load_dotenv()\n",
    "    api_key = os.getenv('GECKO_API')\n",
    "    price_dfs = []\n",
    "    for coin_id in token_ids:\n",
    "        \n",
    "        url = f'https://pro-api.coingecko.com/api/v3/coins/{coin_id}/market_chart'\n",
    "        params = {\n",
    "            'vs_currency': vs_currency,\n",
    "            'days': days\n",
    "        }\n",
    "        headers = {\n",
    "            'accept': 'application/json',\n",
    "            'x-cg-pro-api-key': api_key\n",
    "        }\n",
    "        response = requests.get(url, headers=headers, params=params)\n",
    "        data = response.json()\n",
    "        df = pd.DataFrame(data['prices'], columns=['timestamp', coin_id])\n",
    "        df['timestamp'] = pd.to_datetime(df['timestamp'], unit='ms')\n",
    "        df.set_index('timestamp', inplace=True)\n",
    "        df = df.resample('1h').last()  # or '1D' for daily\n",
    "        price_dfs.append(df)\n",
    "\n",
    "    # Merge all dataframes on timestamp\n",
    "    result_df = pd.concat(price_dfs, axis=1)\n",
    "    return result_df"
   ]
  },
  {
   "cell_type": "code",
   "execution_count": 4,
   "id": "8185a0de",
   "metadata": {},
   "outputs": [
    {
     "name": "stdout",
     "output_type": "stream",
     "text": [
      "                           bitcoin     ethereum      solana    ripple\n",
      "timestamp                                                            \n",
      "2025-07-07 10:00:00  108837.969514  2571.150071  152.183418  2.278798\n",
      "2025-07-07 11:00:00  108691.181357  2560.254636  152.311042  2.286592\n",
      "2025-07-07 12:00:00  108648.140157  2563.630487  152.945509  2.280670\n",
      "2025-07-07 13:00:00  108343.933685  2549.563672  151.789549  2.273814\n",
      "2025-07-07 14:00:00  108435.957397  2563.551118  152.521251  2.321212\n",
      "...                            ...          ...         ...       ...\n",
      "2025-08-06 05:00:00  113469.766853  3575.691188  162.368898  2.913404\n",
      "2025-08-06 06:00:00  114133.761344  3631.745831  164.014482  2.943329\n",
      "2025-08-06 07:00:00  114083.753597  3632.919456  164.052665  2.949705\n",
      "2025-08-06 08:00:00  114200.392067  3638.585571  164.178826  2.953423\n",
      "2025-08-06 09:00:00  114088.965348  3629.616934  164.188570  2.946290\n",
      "\n",
      "[720 rows x 4 columns]\n"
     ]
    },
    {
     "data": {
      "text/plain": [
       "['C:/Users/FFFO CASHIER PT/OneDrive/Desktop/Hands-on Projects/database\\\\df_prices.joblib']"
      ]
     },
     "execution_count": 4,
     "metadata": {},
     "output_type": "execute_result"
    }
   ],
   "source": [
    "# Example: Define tokens directly for notebook use\n",
    "tokens = ['bitcoin', 'ethereum', 'solana', 'ripple']  # Add more as needed\n",
    "\n",
    "# Example: Get tokens from user input\n",
    "# tokens = input(\"Enter token IDs separated by commas (e.g., bitcoin,ethereum,solana): \").split(\",\")\n",
    "# tokens = [t.strip() for t in tokens]\n",
    "\n",
    "df_prices = fetch_token_price_history(tokens, days='30')\n",
    "print(df_prices.head(5000))\n",
    "\n",
    "# Save df_prices using joblib\n",
    "save_dir = 'C:/Users/FFFO CASHIER PT/OneDrive/Desktop/Hands-on Projects/database'\n",
    "os.makedirs(save_dir, exist_ok=True)\n",
    "joblib.dump(df_prices, os.path.join(save_dir, \"df_prices.joblib\"))"
   ]
  },
  {
   "cell_type": "code",
   "execution_count": 6,
   "id": "25c59115",
   "metadata": {},
   "outputs": [
    {
     "data": {
      "text/plain": [
       "['C:\\\\Users\\\\FFFO CASHIER PT\\\\OneDrive\\\\Desktop\\\\Hands-on Projects\\\\database\\\\df_prices.joblib']"
      ]
     },
     "execution_count": 6,
     "metadata": {},
     "output_type": "execute_result"
    }
   ],
   "source": [
    "\n",
    "save_dir = r'C:\\Users\\FFFO CASHIER PT\\OneDrive\\Desktop\\Hands-on Projects\\database'\n",
    "os.makedirs(save_dir, exist_ok=True)\n",
    "joblib.dump(df_prices, os.path.join(save_dir, \"df_prices.joblib\"))"
   ]
  }
 ],
 "metadata": {
  "kernelspec": {
   "display_name": "pythonF (3.13.5)",
   "language": "python",
   "name": "python3"
  },
  "language_info": {
   "codemirror_mode": {
    "name": "ipython",
    "version": 3
   },
   "file_extension": ".py",
   "mimetype": "text/x-python",
   "name": "python",
   "nbconvert_exporter": "python",
   "pygments_lexer": "ipython3",
   "version": "3.13.5"
  }
 },
 "nbformat": 4,
 "nbformat_minor": 5
}
