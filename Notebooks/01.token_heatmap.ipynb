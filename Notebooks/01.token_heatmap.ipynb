{
 "cells": [
  {
   "cell_type": "markdown",
   "id": "ff2f4fbb",
   "metadata": {},
   "source": [
    "# Crypto Token Correlation Heatmep\n",
    "\n",
    "### Fetch Tokens Data from Coingecko"
   ]
  },
  {
   "cell_type": "code",
   "execution_count": 19,
   "id": "14ece666",
   "metadata": {},
   "outputs": [],
   "source": [
    "import os\n",
    "from dotenv import load_dotenv\n",
    "import requests\n",
    "import pandas as pd\n",
    "\n",
    "load_dotenv()  # Load environment variables from .env\n",
    "\n",
    "api_key = os.getenv('GECKO_API')  # Get API key from .env\n",
    "coin_id = 'bitcoin'\n",
    "vs_currency = 'usd'\n",
    "days = '30'\n",
    "\n",
    "url = f'https://pro-api.coingecko.com/api/v3/coins/{coin_id}/market_chart'\n",
    "params = {\n",
    "    'vs_currency': vs_currency,\n",
    "    'days': days\n",
    "}\n",
    "headers = {\n",
    "    'accept': 'application/json',\n",
    "    'x-cg-pro-api-key': api_key\n",
    "}\n",
    "\n",
    "response = requests.get(url, headers=headers, params=params)"
   ]
  },
  {
   "cell_type": "markdown",
   "id": "ff13871a",
   "metadata": {},
   "source": [
    "### Convert Result into a DataFrame"
   ]
  },
  {
   "cell_type": "code",
   "execution_count": 20,
   "id": "9124d84d",
   "metadata": {},
   "outputs": [
    {
     "name": "stdout",
     "output_type": "stream",
     "text": [
      "                timestamp          price\n",
      "0 2025-07-06 12:03:51.499  108079.788276\n",
      "1 2025-07-06 13:03:43.969  108226.778238\n",
      "2 2025-07-06 14:04:04.610  108852.242818\n",
      "3 2025-07-06 15:00:49.792  108881.002859\n",
      "4 2025-07-06 16:03:42.914  108842.004636\n"
     ]
    }
   ],
   "source": [
    "data = response.json()\n",
    "\n",
    "# Convert 'prices' to DataFrame\n",
    "df = pd.DataFrame(data['prices'], columns=['timestamp', 'price'])\n",
    "df['timestamp'] = pd.to_datetime(df['timestamp'], unit='ms')\n",
    "\n",
    "print(df.head())"
   ]
  },
  {
   "cell_type": "markdown",
   "id": "8dd118fe",
   "metadata": {},
   "source": [
    "### Create a Function"
   ]
  },
  {
   "cell_type": "code",
   "execution_count": 21,
   "id": "23e8e072",
   "metadata": {},
   "outputs": [],
   "source": [
    "import os\n",
    "from dotenv import load_dotenv\n",
    "import requests\n",
    "import pandas as pd\n",
    "import joblib\n",
    "\n",
    "load_dotenv()  # Load environment variables from .env\n",
    "\n",
    "api_key = os.getenv('GECKO_API')  # Get API key from .env\n",
    "coin_id = 'bitcoin'\n",
    "vs_currency = 'usd'\n",
    "days = '30'\n",
    "\n",
    "def fetch_token_price_history(token_ids, vs_currency='usd', days='30'):\n",
    "    \"\"\"\n",
    "    Fetch historical price data for multiple tokens from CoinGecko Pro API.\n",
    "    \n",
    "    Args:\n",
    "        token_ids (list): List of token ids (e.g., ['bitcoin', 'ethereum']).\n",
    "        vs_currency (str): The target currency (default 'usd').\n",
    "        days (str): Number of days to fetch (default '30').\n",
    "    \n",
    "    Returns:\n",
    "        pd.DataFrame: DataFrame with timestamps as index and tokens as columns.\n",
    "    \"\"\"\n",
    "    load_dotenv()\n",
    "    api_key = os.getenv('GECKO_API')\n",
    "    price_dfs = []\n",
    "    for coin_id in token_ids:\n",
    "        \n",
    "        url = f'https://pro-api.coingecko.com/api/v3/coins/{coin_id}/market_chart'\n",
    "        params = {\n",
    "            'vs_currency': vs_currency,\n",
    "            'days': days\n",
    "        }\n",
    "        headers = {\n",
    "            'accept': 'application/json',\n",
    "            'x-cg-pro-api-key': api_key\n",
    "        }\n",
    "        response = requests.get(url, headers=headers, params=params)\n",
    "        data = response.json()\n",
    "        df = pd.DataFrame(data['prices'], columns=['timestamp', coin_id])\n",
    "        df['timestamp'] = pd.to_datetime(df['timestamp'], unit='ms')\n",
    "        df.set_index('timestamp', inplace=True)\n",
    "        df = df.resample('1h').last()  # or '1D' for daily\n",
    "        price_dfs.append(df)\n",
    "\n",
    "    # Merge all dataframes on timestamp\n",
    "    result_df = pd.concat(price_dfs, axis=1)\n",
    "    return result_df"
   ]
  },
  {
   "cell_type": "code",
   "execution_count": 22,
   "id": "8185a0de",
   "metadata": {},
   "outputs": [
    {
     "name": "stdout",
     "output_type": "stream",
     "text": [
      "                           bitcoin     ethereum      solana    ripple\n",
      "timestamp                                                            \n",
      "2025-07-06 12:00:00  108079.788276  2514.979427  147.860826       NaN\n",
      "2025-07-06 13:00:00  108226.778238  2520.355851  148.786268  2.273416\n",
      "2025-07-06 14:00:00  108852.242818  2560.016103  151.526358  2.284491\n",
      "2025-07-06 15:00:00  108881.002859  2558.079219  151.513413  2.270192\n",
      "2025-07-06 16:00:00  108842.004636  2555.859603  151.277611  2.275761\n",
      "...                            ...          ...         ...       ...\n",
      "2025-08-05 08:00:00  113952.075023  3612.362157  166.097742  3.006206\n",
      "2025-08-05 09:00:00  114292.621861  3635.046187  166.833115  3.036377\n",
      "2025-08-05 10:00:00  114683.080592  3659.569446  169.087926  3.057521\n",
      "2025-08-05 11:00:00  114783.830937  3675.375878  170.696358  3.070277\n",
      "2025-08-05 12:00:00  114790.749301  3670.576064  170.791193  3.060353\n",
      "\n",
      "[721 rows x 4 columns]\n"
     ]
    },
    {
     "data": {
      "text/plain": [
       "['C:/Users/FFFO CASHIER PT/OneDrive/Desktop/Hands-on Projects/database\\\\df_prices.joblib']"
      ]
     },
     "execution_count": 22,
     "metadata": {},
     "output_type": "execute_result"
    }
   ],
   "source": [
    "# Example: Define tokens directly for notebook use\n",
    "tokens = ['bitcoin', 'ethereum', 'solana', 'ripple']  # Add more as needed\n",
    "\n",
    "# Example: Get tokens from user input\n",
    "# tokens = input(\"Enter token IDs separated by commas (e.g., bitcoin,ethereum,solana): \").split(\",\")\n",
    "# tokens = [t.strip() for t in tokens]\n",
    "\n",
    "df_prices = fetch_token_price_history(tokens, days='30')\n",
    "print(df_prices.head(5000))\n",
    "\n",
    "# Save df_prices using joblib\n",
    "save_dir = 'C:/Users/FFFO CASHIER PT/OneDrive/Desktop/Hands-on Projects/database'\n",
    "os.makedirs(save_dir, exist_ok=True)\n",
    "joblib.dump(df_prices, os.path.join(save_dir, \"df_prices.joblib\"))"
   ]
  },
  {
   "cell_type": "code",
   "execution_count": 23,
   "id": "25c59115",
   "metadata": {},
   "outputs": [
    {
     "ename": "SyntaxError",
     "evalue": "(unicode error) 'unicodeescape' codec can't decode bytes in position 0-1: truncated \\UXXXXXXXX escape (2952044808.py, line 1)",
     "output_type": "error",
     "traceback": [
      "  \u001b[36mCell\u001b[39m\u001b[36m \u001b[39m\u001b[32mIn[23]\u001b[39m\u001b[32m, line 1\u001b[39m\n\u001b[31m    \u001b[39m\u001b[31msave_dir = '\\Users\\FFFO CASHIER PT\\OneDrive\\Desktop\\Hands-on Projects/Database'\u001b[39m\n               ^\n\u001b[31mSyntaxError\u001b[39m\u001b[31m:\u001b[39m (unicode error) 'unicodeescape' codec can't decode bytes in position 0-1: truncated \\UXXXXXXXX escape\n"
     ]
    }
   ],
   "source": [
    "\n",
    "save_dir = '\\Users\\FFFO CASHIER PT\\OneDrive\\Desktop\\Hands-on Projects/Database'\n",
    "os.makedirs(save_dir, exist_ok=True)\n",
    "joblib.dump(df_prices, os.path.join(save_dir, \"df_prices.joblib\"))"
   ]
  }
 ],
 "metadata": {
  "kernelspec": {
   "display_name": "pythonF (3.13.5)",
   "language": "python",
   "name": "python3"
  },
  "language_info": {
   "codemirror_mode": {
    "name": "ipython",
    "version": 3
   },
   "file_extension": ".py",
   "mimetype": "text/x-python",
   "name": "python",
   "nbconvert_exporter": "python",
   "pygments_lexer": "ipython3",
   "version": "3.13.5"
  }
 },
 "nbformat": 4,
 "nbformat_minor": 5
}
